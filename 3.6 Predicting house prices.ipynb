{
 "cells": [
  {
   "cell_type": "markdown",
   "metadata": {},
   "source": [
    "## 3.6 预测房价：回归问题\n",
    "前面两个例子都是分类问题，其目标是预测输入数据点所对应的单一离散的标签。另一种常见的机器学习问题是回归问题，它预测一个连续值而不是离散的标签，例如，根据气象数据预测明天的气温，或者根据软件说明书预测完成软件项目所需要的时间。\n",
    "\n",
    "本节将要预测20 世纪70 年代中期波士顿郊区房屋价格的中位数，已知当时郊区的一些数据点，比如犯罪率、当地房产税率等。本节用到的数据集与前面两个例子有一个有趣的区别。它包含的数据点相对较少，只有506 个，分为404 个训练样本和102 个测试样本。输入数据的每个特征（比如犯罪率）都有不同的取值范围。例如，有些特性是比例，取值范围为0~1；有的取值范围为1~12；还有的取值范围为0~100，等等。"
   ]
  },
  {
   "cell_type": "markdown",
   "metadata": {},
   "source": [
    "加载波士顿房价数据"
   ]
  },
  {
   "cell_type": "code",
   "execution_count": 15,
   "metadata": {},
   "outputs": [],
   "source": [
    "from keras.datasets import boston_housing\n",
    "(train_data, train_targets), (test_data, test_targets) = boston_housing.load_data()"
   ]
  },
  {
   "cell_type": "code",
   "execution_count": 16,
   "metadata": {},
   "outputs": [
    {
     "data": {
      "text/plain": [
       "(404, 13)"
      ]
     },
     "execution_count": 16,
     "metadata": {},
     "output_type": "execute_result"
    }
   ],
   "source": [
    "train_data.shape"
   ]
  },
  {
   "cell_type": "code",
   "execution_count": 17,
   "metadata": {},
   "outputs": [
    {
     "data": {
      "text/plain": [
       "(102, 13)"
      ]
     },
     "execution_count": 17,
     "metadata": {},
     "output_type": "execute_result"
    }
   ],
   "source": [
    "test_data.shape"
   ]
  },
  {
   "cell_type": "code",
   "execution_count": 18,
   "metadata": {},
   "outputs": [
    {
     "data": {
      "text/plain": [
       "array([15.2, 42.3, 50. , 21.1, 17.7])"
      ]
     },
     "execution_count": 18,
     "metadata": {},
     "output_type": "execute_result"
    }
   ],
   "source": [
    "# 目标是房屋价格的中位数，单位是千美元\n",
    "train_targets[:5]"
   ]
  },
  {
   "cell_type": "markdown",
   "metadata": {},
   "source": [
    "### 准备数据\n",
    "将取值范围差异很大的数据输入到神经网络中，这是有问题的。网络可能会自动适应这种取值范围不同的数据，但学习肯定变得更加困难。对于这种数据，普遍采用的最佳实践是对每个特征做标准化，即对于输入数据的每个特征（输入数据矩阵中的列），减去特征平均值，再除以标准差，这样得到的特征平均值为0，标准差为1。用Numpy 可以很容易实现标准化。"
   ]
  },
  {
   "cell_type": "markdown",
   "metadata": {},
   "source": [
    "#### 数据标准化"
   ]
  },
  {
   "cell_type": "code",
   "execution_count": 19,
   "metadata": {},
   "outputs": [
    {
     "data": {
      "text/plain": [
       "array([3.74511057e+00, 1.14801980e+01, 1.11044307e+01, 6.18811881e-02,\n",
       "       5.57355941e-01, 6.26708168e+00, 6.90106436e+01, 3.74027079e+00,\n",
       "       9.44059406e+00, 4.05898515e+02, 1.84759901e+01, 3.54783168e+02,\n",
       "       1.27408168e+01])"
      ]
     },
     "execution_count": 19,
     "metadata": {},
     "output_type": "execute_result"
    }
   ],
   "source": [
    "mean = train_data.mean(axis=0)\n",
    "mean"
   ]
  },
  {
   "cell_type": "code",
   "execution_count": 20,
   "metadata": {},
   "outputs": [],
   "source": [
    "train_data -= mean\n",
    "std = train_data.std(axis=0)\n",
    "train_data /= std\n",
    "test_data -= mean\n",
    "test_data /= std"
   ]
  },
  {
   "cell_type": "code",
   "execution_count": 21,
   "metadata": {},
   "outputs": [
    {
     "data": {
      "text/plain": [
       "array([[-0.27224633, -0.48361547, -0.43576161, ...,  1.14850044,\n",
       "         0.44807713,  0.8252202 ],\n",
       "       [-0.40342651,  2.99178419, -1.33391162, ..., -1.71818909,\n",
       "         0.43190599, -1.32920239],\n",
       "       [ 0.1249402 , -0.48361547,  1.0283258 , ...,  0.78447637,\n",
       "         0.22061726, -1.30850006],\n",
       "       ...,\n",
       "       [-0.40202987,  0.99079651, -0.7415148 , ..., -0.71712291,\n",
       "         0.07943894, -0.67776904],\n",
       "       [-0.17292018, -0.48361547,  1.24588095, ..., -1.71818909,\n",
       "        -0.98764362,  0.42083466],\n",
       "       [-0.40422614,  2.04394792, -1.20161456, ..., -1.30866202,\n",
       "         0.23317118, -1.15392266]])"
      ]
     },
     "execution_count": 21,
     "metadata": {},
     "output_type": "execute_result"
    }
   ],
   "source": [
    "train_data"
   ]
  },
  {
   "cell_type": "markdown",
   "metadata": {},
   "source": [
    "使用sklearn进行标准化\n",
    "\n",
    "from sklearn.preprocessing import scale\n",
    "\n",
    "train_data = scale(train_data)\n",
    "\n",
    "train_data"
   ]
  },
  {
   "cell_type": "markdown",
   "metadata": {},
   "source": [
    "#### 构建网络\n",
    "由于样本数量很少，我们将使用一个非常小的网络，其中包含两个隐藏层，每层有64 个单元。一般来说，训练数据越少，过拟合会越严重，而较小的网络可以降低过拟合。"
   ]
  },
  {
   "cell_type": "markdown",
   "metadata": {},
   "source": [
    "模型定义"
   ]
  },
  {
   "cell_type": "code",
   "execution_count": 28,
   "metadata": {},
   "outputs": [],
   "source": [
    "from keras import models\n",
    "from keras import layers\n",
    "def build_model():\n",
    "    # 因为需要将同一个模型多次实例化，所以用一个函数来构建模型\n",
    "    model = models.Sequential()\n",
    "    model.add(layers.Dense(64,activation='relu',\n",
    "                          input_shape=(train_data.shape[1],)))\n",
    "    model.add(layers.Dense(64,activation='relu'))\n",
    "    model.add(layers.Dense(1))\n",
    "    model.compile(optimizer='rmsprop',loss='mse',metrics=['mae'])\n",
    "    return model"
   ]
  },
  {
   "cell_type": "markdown",
   "metadata": {},
   "source": [
    "网络的最后一层只有一个单元，没有激活，是一个线性层。这是标量回归（标量回归是预测单一连续值的回归）的典型设置。添加激活函数将会限制输出范围。例如，如果向最后一层添加sigmoid 激活函数，网络只能学会预测0~1 范围内的值。这里最后一层是纯线性的，所以网络可以学会预测任意范围内的值。\n",
    "\n",
    "注意，编译网络用的是mse 损失函数，即均方误差（MSE，mean squared error），预测值与目标值之差的平方。这是回归问题常用的损失函数。\n",
    "\n",
    "在训练过程中还监控一个新指标：平均绝对误差（MAE，mean absolute error）。它是预测值与目标值之差的绝对值。比如，如果这个问题的MAE 等于0.5，就表示你预测的房价与实际价格平均相差500 美元。"
   ]
  },
  {
   "cell_type": "markdown",
   "metadata": {},
   "source": [
    "###  利用K 折验证来验证你的方法\n",
    "K 折验证"
   ]
  },
  {
   "cell_type": "code",
   "execution_count": 30,
   "metadata": {},
   "outputs": [
    {
     "name": "stdout",
     "output_type": "stream",
     "text": [
      "processing fold #  0\n",
      "processing fold #  1\n",
      "processing fold #  2\n",
      "processing fold #  3\n"
     ]
    }
   ],
   "source": [
    "import numpy as np\n",
    "k = 4\n",
    "num_val_samples = len(train_data) // k\n",
    "num_epochs = 100\n",
    "all_score = []\n",
    "for i in range(k):\n",
    "    print('processing fold # ',i)\n",
    "    # 准备验证数据：第k 个分区的数据\n",
    "    val_data = train_data[i * num_val_samples:(i + 1) * num_val_samples]\n",
    "    val_target = train_targets[i * num_val_samples:(i + 1) * num_val_samples]\n",
    "    # 准备训练数据：其他所有分区的数据\n",
    "    partial_train_data = partial_train_data = np.concatenate([train_data[:i * num_val_samples],\n",
    "                                                              train_data[(i + 1) * num_val_samples:]],axis=0)\n",
    "    partial_train_targets = np.concatenate([train_targets[:i * num_val_samples],\n",
    "                                            train_targets[(i + 1) * num_val_samples:]],axis=0)\n",
    "    # 构建Keras 模型（已编译）\n",
    "    model = build_model()\n",
    "    model.fit(partial_train_data,partial_train_targets,epochs=num_epochs,batch_size=1,verbose=0)\n",
    "    # 在验证数据上评估模型\n",
    "    val_mse,val_mae = model.evaluate(val_data,val_target,verbose=0)\n",
    "    all_score.append(val_mae)"
   ]
  },
  {
   "cell_type": "code",
   "execution_count": 31,
   "metadata": {},
   "outputs": [
    {
     "data": {
      "text/plain": [
       "[1.980499531963084, 2.7058642453486375, 2.5953975243143517, 2.3569424689406215]"
      ]
     },
     "execution_count": 31,
     "metadata": {},
     "output_type": "execute_result"
    }
   ],
   "source": [
    "all_score"
   ]
  },
  {
   "cell_type": "code",
   "execution_count": 32,
   "metadata": {},
   "outputs": [
    {
     "data": {
      "text/plain": [
       "2.4096759426416736"
      ]
     },
     "execution_count": 32,
     "metadata": {},
     "output_type": "execute_result"
    }
   ],
   "source": [
    "np.mean(all_score)"
   ]
  },
  {
   "cell_type": "markdown",
   "metadata": {},
   "source": [
    "每次运行模型得到的验证分数有很大差异，从2.6 到3.2 不等。平均分数（3.0）是比单一分数更可靠的指标——这就是K 折交叉验证的关键。在这个例子中，预测的房价与实际价格平均相差3000 美元，考虑到实际价格范围在10 000~50 000 美元，这一差别还是很大的。\n",
    "\n",
    "我们让训练时间更长一点，达到500 个轮次。为了记录模型在每轮的表现，我们需要修改训练循环，以保存每轮的验证分数记录。"
   ]
  },
  {
   "cell_type": "code",
   "execution_count": 33,
   "metadata": {},
   "outputs": [
    {
     "name": "stdout",
     "output_type": "stream",
     "text": [
      "processing fold # 0\n",
      "processing fold # 1\n",
      "processing fold # 2\n",
      "processing fold # 3\n"
     ]
    }
   ],
   "source": [
    "num_epochs = 500\n",
    "all_mae_histories = []\n",
    "for i in range(k):\n",
    "    print('processing fold #', i)\n",
    "    val_data = train_data[i * num_val_samples: (i + 1) * num_val_samples]\n",
    "    val_targets = train_targets[i * num_val_samples: (i + 1) * num_val_samples]\n",
    "    \n",
    "    partial_train_data = partial_train_data = np.concatenate([train_data[:i * num_val_samples],\n",
    "                                                              train_data[(i + 1) * num_val_samples:]],axis=0)\n",
    "    partial_train_targets = np.concatenate([train_targets[:i * num_val_samples],\n",
    "                                            train_targets[(i + 1) * num_val_samples:]],axis=0)\n",
    "    model = build_model()\n",
    "    history = model.fit(partial_train_data,partial_train_targets,validation_data=(val_data,val_targets),\n",
    "                       epochs=num_epochs,batch_size=1,verbose=0)\n",
    "    mae_history = history.history['val_mean_absolute_error']\n",
    "    all_mae_histories.append(mae_history)"
   ]
  },
  {
   "cell_type": "markdown",
   "metadata": {},
   "source": [
    "然后你可以计算每个轮次中所有折MAE 的平均值。"
   ]
  },
  {
   "cell_type": "code",
   "execution_count": 35,
   "metadata": {},
   "outputs": [],
   "source": [
    "average_mae_history = [np.mean([x[i] for x in all_mae_histories]) for i in range(num_epochs)]"
   ]
  },
  {
   "cell_type": "code",
   "execution_count": 36,
   "metadata": {},
   "outputs": [
    {
     "data": {
      "text/plain": [
       "[4.7672460551309115,\n",
       " 3.373669473251494,\n",
       " 3.0569816934000147,\n",
       " 2.9051429257534513,\n",
       " 2.728726865041374,\n",
       " 2.667234237831418,\n",
       " 2.6326768421890714,\n",
       " 2.649094572161684,\n",
       " 2.514045834541321,\n",
       " 2.6158400738593373,\n",
       " 2.5706732987177254,\n",
       " 2.6159817051179335,\n",
       " 2.496341326449177,\n",
       " 2.7312373312393037,\n",
       " 2.513031594824083,\n",
       " 2.4626687776924356,\n",
       " 2.4794108914856863,\n",
       " 2.4393653019820114,\n",
       " 2.6793329019357666,\n",
       " 2.5415387661150186,\n",
       " 2.4506262800481062,\n",
       " 2.462157053522544,\n",
       " 2.3683884368084445,\n",
       " 2.451091164409524,\n",
       " 2.4791506906547167,\n",
       " 2.3491483525474472,\n",
       " 2.546229677625222,\n",
       " 2.2915767596499754,\n",
       " 2.3806411712476523,\n",
       " 2.387657602234642,\n",
       " 2.3438857628567384,\n",
       " 2.399403915546908,\n",
       " 2.4703678376603833,\n",
       " 2.443527441213627,\n",
       " 2.523920901931158,\n",
       " 2.4139632293493443,\n",
       " 2.3179570719747264,\n",
       " 2.5563921432683965,\n",
       " 2.4126156828191023,\n",
       " 2.527462860145191,\n",
       " 2.410571557460445,\n",
       " 2.398346307254074,\n",
       " 2.440187635988292,\n",
       " 2.346944844368661,\n",
       " 2.4306950203262936,\n",
       " 2.361636998629806,\n",
       " 2.3019978646004553,\n",
       " 2.378469757514425,\n",
       " 2.3793258761415386,\n",
       " 2.431508919980266,\n",
       " 2.4399959297463445,\n",
       " 2.299291686256333,\n",
       " 2.444460950275459,\n",
       " 2.3786349060511824,\n",
       " 2.5366297181289976,\n",
       " 2.318358965439371,\n",
       " 2.5092799698952404,\n",
       " 2.3202670482125614,\n",
       " 2.3503226230640224,\n",
       " 2.356205263940415,\n",
       " 2.509816375109229,\n",
       " 2.493094530436072,\n",
       " 2.521316990993991,\n",
       " 2.412432740230371,\n",
       " 2.3069156585353436,\n",
       " 2.3768041712222714,\n",
       " 2.4764057917170006,\n",
       " 2.4336525945380183,\n",
       " 2.3773901651401332,\n",
       " 2.4161424082104523,\n",
       " 2.370070697057365,\n",
       " 2.608023588020022,\n",
       " 2.4434899587442382,\n",
       " 2.447716017760853,\n",
       " 2.4403296272353368,\n",
       " 2.49301812908437,\n",
       " 2.3911622585636554,\n",
       " 2.509911761425509,\n",
       " 2.4268948677742834,\n",
       " 2.521631656306805,\n",
       " 2.4884891462798167,\n",
       " 2.456943450587811,\n",
       " 2.3558993433961777,\n",
       " 2.546763875696919,\n",
       " 2.5642129784763448,\n",
       " 2.4593636163390507,\n",
       " 2.382742090980605,\n",
       " 2.421792452878291,\n",
       " 2.346601905209003,\n",
       " 2.49853243450127,\n",
       " 2.448729313246094,\n",
       " 2.4843652366411573,\n",
       " 2.6322658557703,\n",
       " 2.5156989782163413,\n",
       " 2.541585725132782,\n",
       " 2.3939558751512284,\n",
       " 2.3326344301204873,\n",
       " 2.430163061264718,\n",
       " 2.3405684020259594,\n",
       " 2.3859908391933633,\n",
       " 2.5644664233273797,\n",
       " 2.645579249551981,\n",
       " 2.3615430251206506,\n",
       " 2.529487583896901,\n",
       " 2.456112162901624,\n",
       " 2.4794152007244596,\n",
       " 2.4587606321467033,\n",
       " 2.629575752975917,\n",
       " 2.447372381049808,\n",
       " 2.5177993644582166,\n",
       " 2.474409049100215,\n",
       " 2.473480184479515,\n",
       " 2.3920167318665158,\n",
       " 2.551049973705027,\n",
       " 2.4059318233244493,\n",
       " 2.515337625352463,\n",
       " 2.480143676890005,\n",
       " 2.4237327504866193,\n",
       " 2.396562369743196,\n",
       " 2.5970661439517935,\n",
       " 2.447093948279277,\n",
       " 2.5433961330073895,\n",
       " 2.3625622421207995,\n",
       " 2.493652045136631,\n",
       " 2.4605781807757836,\n",
       " 2.4458681710875863,\n",
       " 2.379532282895381,\n",
       " 2.545166507805928,\n",
       " 2.572136176694738,\n",
       " 2.4488378468126353,\n",
       " 2.5541478784957734,\n",
       " 2.5429355661467747,\n",
       " 2.519188693254301,\n",
       " 2.4578384125586785,\n",
       " 2.5919216316525295,\n",
       " 2.3922203377921982,\n",
       " 2.5260523439633964,\n",
       " 2.552848196265721,\n",
       " 2.613032640797077,\n",
       " 2.6501054492327247,\n",
       " 2.5593652323921128,\n",
       " 2.42477550246928,\n",
       " 2.4214495621105234,\n",
       " 2.593818796743261,\n",
       " 2.5086490140102877,\n",
       " 2.4235740357106277,\n",
       " 2.5612570944398936,\n",
       " 2.6593449989167772,\n",
       " 2.551562289200207,\n",
       " 2.600926399230957,\n",
       " 2.5276724631243415,\n",
       " 2.568764336038344,\n",
       " 2.555040185994441,\n",
       " 2.6412352807451,\n",
       " 2.6160785691572888,\n",
       " 2.433891488773988,\n",
       " 2.5200499402414454,\n",
       " 2.6245348465324625,\n",
       " 2.459046665984805,\n",
       " 2.515482817545976,\n",
       " 2.5953785594147027,\n",
       " 2.564563534047344,\n",
       " 2.627315793887223,\n",
       " 2.6886127030495373,\n",
       " 2.4692456084902923,\n",
       " 2.469074562044427,\n",
       " 2.543500823549705,\n",
       " 2.545838365460386,\n",
       " 2.5077932152417626,\n",
       " 2.5987385617624414,\n",
       " 2.6620139249480594,\n",
       " 2.4938781910603587,\n",
       " 2.5977902672078352,\n",
       " 2.5622449688392113,\n",
       " 2.4960224415996284,\n",
       " 2.6289366778760854,\n",
       " 2.5683496263947814,\n",
       " 2.5750190503526444,\n",
       " 2.5864191704457347,\n",
       " 2.58860181227769,\n",
       " 2.6024362627822573,\n",
       " 2.6080857267474182,\n",
       " 2.5781771310485233,\n",
       " 2.5202784892356043,\n",
       " 2.5006627753229425,\n",
       " 2.662174892897653,\n",
       " 2.601682213273379,\n",
       " 2.6854467816872174,\n",
       " 2.590125486992373,\n",
       " 2.6040921341074577,\n",
       " 2.6287607025391986,\n",
       " 2.667434987455312,\n",
       " 2.6130539839810663,\n",
       " 2.648001710967262,\n",
       " 2.543694588217405,\n",
       " 2.622603997145549,\n",
       " 2.594183126298508,\n",
       " 2.5714682930766948,\n",
       " 2.5797776668378622,\n",
       " 2.588672051335325,\n",
       " 2.653854544800107,\n",
       " 2.554249411762351,\n",
       " 2.616491747374582,\n",
       " 2.6530723371128047,\n",
       " 2.7130425932383773,\n",
       " 2.5403302601068325,\n",
       " 2.699301321907799,\n",
       " 2.686063269577404,\n",
       " 2.7111958654800263,\n",
       " 2.5594852826382852,\n",
       " 2.715505646006896,\n",
       " 2.7717613477518066,\n",
       " 2.6265284566596003,\n",
       " 2.6060831151386297,\n",
       " 2.609584104896772,\n",
       " 2.544648980150128,\n",
       " 2.7047790542687524,\n",
       " 2.7072463130006694,\n",
       " 2.645048363374011,\n",
       " 2.8111870170819877,\n",
       " 2.658634598892514,\n",
       " 2.6675352141408637,\n",
       " 2.718476426483381,\n",
       " 2.6240055926955574,\n",
       " 2.598766230120517,\n",
       " 2.5893570857472934,\n",
       " 2.6191228982245565,\n",
       " 2.7464240293691655,\n",
       " 2.6227763360089593,\n",
       " 2.6411812777566435,\n",
       " 2.6745419537667,\n",
       " 2.5796478786090815,\n",
       " 2.707184898971331,\n",
       " 2.5589177856350886,\n",
       " 2.7714709515618807,\n",
       " 2.631185410636486,\n",
       " 2.7501184834112036,\n",
       " 2.5699985841713326,\n",
       " 2.704022363861008,\n",
       " 2.5847346174834978,\n",
       " 2.645593527520057,\n",
       " 2.681655539144384,\n",
       " 2.7724400263021485,\n",
       " 2.712830152842078,\n",
       " 2.562309481129788,\n",
       " 2.681730996854234,\n",
       " 2.653302766308926,\n",
       " 2.6515836184567743,\n",
       " 2.6504611107382443,\n",
       " 2.64939681079128,\n",
       " 2.6139628674724316,\n",
       " 2.590947161806692,\n",
       " 2.6800916637524517,\n",
       " 2.6994866581246404,\n",
       " 2.7287969329569597,\n",
       " 2.634273172605156,\n",
       " 2.560046931894699,\n",
       " 2.7095730098167268,\n",
       " 2.7066818806204465,\n",
       " 2.705705217795797,\n",
       " 2.6080727046078973,\n",
       " 2.6526756333832697,\n",
       " 2.6970837588357455,\n",
       " 2.6798980318673764,\n",
       " 2.643736701200504,\n",
       " 2.787101554398489,\n",
       " 2.638160532063777,\n",
       " 2.634512062119965,\n",
       " 2.645320467429586,\n",
       " 2.6641470878431113,\n",
       " 2.66526727747209,\n",
       " 2.650371750982681,\n",
       " 2.736777379961297,\n",
       " 2.6542802860241124,\n",
       " 2.7234718008796768,\n",
       " 2.6792841972690997,\n",
       " 2.808549971863775,\n",
       " 2.791818628216734,\n",
       " 2.6323990267102078,\n",
       " 2.770413206355407,\n",
       " 2.6667971044483747,\n",
       " 2.6527896493968397,\n",
       " 2.681175420779993,\n",
       " 2.6984446992968567,\n",
       " 2.6449339555041624,\n",
       " 2.7468216194964867,\n",
       " 2.6578973862204225,\n",
       " 2.7086634045780293,\n",
       " 2.6981600103992047,\n",
       " 2.757803919291732,\n",
       " 2.5995498175668246,\n",
       " 2.6720721981312967,\n",
       " 2.7357536731380048,\n",
       " 2.604072073308548,\n",
       " 2.7369415488573585,\n",
       " 2.7061486698613306,\n",
       " 2.5286571873296606,\n",
       " 2.6775920013389967,\n",
       " 2.554481005904698,\n",
       " 2.573944168515725,\n",
       " 2.6258571466597003,\n",
       " 2.7246601923857585,\n",
       " 2.666529418218254,\n",
       " 2.7036805660417764,\n",
       " 2.6847442707212843,\n",
       " 2.636345927077945,\n",
       " 2.8708893084290006,\n",
       " 2.8040726774989966,\n",
       " 2.7296792516613952,\n",
       " 2.798728695010195,\n",
       " 2.7757477335410545,\n",
       " 2.734265991956881,\n",
       " 2.6601396775481723,\n",
       " 2.7095059604928045,\n",
       " 2.7100534616130414,\n",
       " 2.666764161374309,\n",
       " 2.675464120241675,\n",
       " 2.7364354428678452,\n",
       " 2.835523907500918,\n",
       " 2.685119850210624,\n",
       " 2.6852053982196464,\n",
       " 2.6697265429071857,\n",
       " 2.7391802190554024,\n",
       " 2.754084842039807,\n",
       " 2.631090010746871,\n",
       " 2.7010058288527006,\n",
       " 2.7664743909741394,\n",
       " 2.688207806927143,\n",
       " 2.678608332530107,\n",
       " 2.652682193435065,\n",
       " 2.67089573227533,\n",
       " 2.6994078123923577,\n",
       " 2.717756653186118,\n",
       " 2.6804643078605728,\n",
       " 2.597994921231034,\n",
       " 2.7487881083299617,\n",
       " 2.6916919698809636,\n",
       " 2.7278162193770457,\n",
       " 2.7905248657311543,\n",
       " 2.7786224744107466,\n",
       " 2.6776857199055133,\n",
       " 2.650066363929522,\n",
       " 2.6748509702115957,\n",
       " 2.7535749839083983,\n",
       " 2.7558738323721554,\n",
       " 2.7160016723198463,\n",
       " 2.695662192188867,\n",
       " 2.7100016622260066,\n",
       " 2.7057072951061887,\n",
       " 2.703205913600355,\n",
       " 2.6238766885039833,\n",
       " 2.6667315157333222,\n",
       " 2.7482528485874136,\n",
       " 2.7554810802535257,\n",
       " 2.6941100323554314,\n",
       " 2.7555717631141734,\n",
       " 2.6719392290209782,\n",
       " 2.6797598234497677,\n",
       " 2.6538697847045296,\n",
       " 2.8276901870670885,\n",
       " 2.7181179287410018,\n",
       " 2.8180158917266542,\n",
       " 2.814998126266026,\n",
       " 2.834474262624684,\n",
       " 2.644726108796526,\n",
       " 2.6994015167255214,\n",
       " 2.6638992009776654,\n",
       " 2.5720749031199084,\n",
       " 2.719407314121133,\n",
       " 2.696362804068197,\n",
       " 2.651002217047285,\n",
       " 2.7290716537154545,\n",
       " 2.6390549475603766,\n",
       " 2.6357247475350256,\n",
       " 2.579726477660755,\n",
       " 2.6917193927387197,\n",
       " 2.5943021007103493,\n",
       " 2.6508169646310336,\n",
       " 2.727532066921196,\n",
       " 2.6525744483022407,\n",
       " 2.6559532432272883,\n",
       " 2.697145941233871,\n",
       " 2.5809207871408746,\n",
       " 2.5624826568188053,\n",
       " 2.6021824555821937,\n",
       " 2.6447993044806,\n",
       " 2.6672900714496572,\n",
       " 2.662149880192067,\n",
       " 2.663975742783877,\n",
       " 2.660812049809069,\n",
       " 2.7299493326999174,\n",
       " 2.663072896475839,\n",
       " 2.7031593547009,\n",
       " 2.6828995010640364,\n",
       " 2.6564130594234654,\n",
       " 2.667924041795258,\n",
       " 2.7545013386424224,\n",
       " 2.6228783478831303,\n",
       " 2.6489075422286983,\n",
       " 2.6734269798392116,\n",
       " 2.713813051138774,\n",
       " 2.633778210913781,\n",
       " 2.700673849275797,\n",
       " 2.666893452701002,\n",
       " 2.7090701466739766,\n",
       " 2.712542489613637,\n",
       " 2.6375508072352645,\n",
       " 2.758146130212463,\n",
       " 2.738914696296843,\n",
       " 2.6984602319131983,\n",
       " 2.8115858441532247,\n",
       " 2.7621354324982894,\n",
       " 2.7414016416757416,\n",
       " 2.6511438058154413,\n",
       " 2.6598768836200826,\n",
       " 2.764392568333314,\n",
       " 2.6993520578535475,\n",
       " 2.561070482329567,\n",
       " 2.609607857052642,\n",
       " 2.682702235656209,\n",
       " 2.7110054304104043,\n",
       " 2.696639779770728,\n",
       " 2.7891330211469443,\n",
       " 2.788570144388936,\n",
       " 2.7021512194435195,\n",
       " 2.7033758623765247,\n",
       " 2.7045082113530374,\n",
       " 2.716519283776236,\n",
       " 2.6842157203372166,\n",
       " 2.68376627298865,\n",
       " 2.744433294428457,\n",
       " 2.685492148493776,\n",
       " 2.66750969981203,\n",
       " 2.7263107004732188,\n",
       " 2.7648940841750345,\n",
       " 2.788041479516737,\n",
       " 2.7018265889422732,\n",
       " 2.7353946891161476,\n",
       " 2.7325568010311314,\n",
       " 2.6203842847654135,\n",
       " 2.6360380047618754,\n",
       " 2.6472424404455888,\n",
       " 2.6711171806448757,\n",
       " 2.7739074371828893,\n",
       " 2.747141509953112,\n",
       " 2.79183173238641,\n",
       " 2.6697833974762717,\n",
       " 2.708055958889499,\n",
       " 2.7993804086552987,\n",
       " 2.688348910596111,\n",
       " 2.637904381988072,\n",
       " 2.7503779560032457,\n",
       " 2.638412657350597,\n",
       " 2.7218151228262646,\n",
       " 2.640502265184232,\n",
       " 2.7578396513910577,\n",
       " 2.5931974436977123,\n",
       " 2.6527514847198335,\n",
       " 2.7759843468666077,\n",
       " 2.6586782365742296,\n",
       " 2.683766761628708,\n",
       " 2.7681855069528716,\n",
       " 2.668430805206299,\n",
       " 2.702278750957829,\n",
       " 2.656429898620832,\n",
       " 2.676702335329339,\n",
       " 2.690971258843299,\n",
       " 2.695150934823669,\n",
       " 2.564530739689818,\n",
       " 2.8148309240246765,\n",
       " 2.711517139236526,\n",
       " 2.737485670807338,\n",
       " 2.661520498813969,\n",
       " 2.6399009959532487,\n",
       " 2.657168488691349,\n",
       " 2.697574741769545,\n",
       " 2.6309428864186355,\n",
       " 2.70732577484433,\n",
       " 2.711453126208617,\n",
       " 2.6370353686927572,\n",
       " 2.7499587748310352,\n",
       " 2.720063877577829,\n",
       " 2.6894965525900965,\n",
       " 2.7256700957175526,\n",
       " 2.60183842465429,\n",
       " 2.7276453228280095,\n",
       " 2.685437720010776,\n",
       " 2.6582531468703015,\n",
       " 2.7632450738755785,\n",
       " 2.6171820517813806,\n",
       " 2.817980281197199,\n",
       " 2.6429532695524767,\n",
       " 2.689882787147371,\n",
       " 2.742193520659267,\n",
       " 2.650350240197512,\n",
       " 2.7591493176941824,\n",
       " 2.7574210757076147,\n",
       " 2.6759923602094746,\n",
       " 2.710362259704288,\n",
       " 2.603140974989032]"
      ]
     },
     "execution_count": 36,
     "metadata": {},
     "output_type": "execute_result"
    }
   ],
   "source": [
    "average_mae_history"
   ]
  },
  {
   "cell_type": "markdown",
   "metadata": {},
   "source": [
    "绘制验证分数"
   ]
  },
  {
   "cell_type": "code",
   "execution_count": 38,
   "metadata": {},
   "outputs": [
    {
     "data": {
      "image/png": "[encoded data removed]",
      "text/plain": [
       "<matplotlib.figure.Figure at 0x14e692b8400>"
      ]
     },
     "metadata": {},
     "output_type": "display_data"
    }
   ],
   "source": [
    "import matplotlib.pyplot as plt\n",
    "plt.plot(range(1, len(average_mae_history) + 1), average_mae_history)\n",
    "plt.xlabel('Epochs')\n",
    "plt.ylabel('Validation MAE')\n",
    "plt.show()"
   ]
  },
  {
   "cell_type": "markdown",
   "metadata": {},
   "source": [
    "因为纵轴的范围较大，且数据方差相对较大，所以难以看清这张图的规律。我们来重新绘制一张图。\n",
    "\n",
    "删除前 10 个数据点，因为它们的取值范围与曲线上的其他点不同。\n",
    "\n",
    "将每个数据点替换为前面数据点的指数移动平均值，以得到光滑的曲线。"
   ]
  },
  {
   "cell_type": "code",
   "execution_count": 39,
   "metadata": {},
   "outputs": [],
   "source": [
    "def smooth_curve(points,factor=0.9):\n",
    "    smoothed_points = []\n",
    "    for point in points:\n",
    "        if smoothed_points:\n",
    "            previous = smoothed_points[-1]\n",
    "            smoothed_points.append(previous * factor + point * (1 - factor))\n",
    "        else:\n",
    "            smoothed_points.append(point)\n",
    "    return smoothed_points\n",
    "smooth_mae_history = smooth_curve(average_mae_history[10:])"
   ]
  },
  {
   "cell_type": "code",
   "execution_count": 40,
   "metadata": {},
   "outputs": [
    {
     "data": {
      "image/png": "[encoded data removed]",
      "text/plain": [
       "<matplotlib.figure.Figure at 0x14e69425358>"
      ]
     },
     "metadata": {},
     "output_type": "display_data"
    }
   ],
   "source": [
    "plt.plot(range(1, len(smooth_mae_history) + 1), smooth_mae_history)\n",
    "plt.xlabel('Epochs')\n",
    "plt.ylabel('Validation MAE')\n",
    "plt.show()"
   ]
  },
  {
   "cell_type": "markdown",
   "metadata": {},
   "source": [
    "从上图可以看出，验证MAE 在80 轮后不再显著降低，之后就开始过拟合。\n",
    "\n",
    "完成模型调参之后（除了轮数，还可以调节隐藏层大小），你可以使用最佳参数在所有训练数据上训练最终的生产模型，然后观察模型在测试集上的性能。"
   ]
  },
  {
   "cell_type": "markdown",
   "metadata": {},
   "source": [
    "#### 训练最终模型"
   ]
  },
  {
   "cell_type": "code",
   "execution_count": 41,
   "metadata": {},
   "outputs": [
    {
     "name": "stdout",
     "output_type": "stream",
     "text": [
      "102/102 [==============================] - 0s 895us/step\n"
     ]
    }
   ],
   "source": [
    "model = build_model()\n",
    "model.fit(train_data,train_targets,epochs=80,batch_size=1,verbose=0)\n",
    "test_mse_score, test_mae_score = model.evaluate(test_data, test_targets)"
   ]
  },
  {
   "cell_type": "code",
   "execution_count": 42,
   "metadata": {},
   "outputs": [
    {
     "data": {
      "text/plain": [
       "2.630008613362032"
      ]
     },
     "execution_count": 42,
     "metadata": {},
     "output_type": "execute_result"
    }
   ],
   "source": [
    "test_mae_score"
   ]
  },
  {
   "cell_type": "markdown",
   "metadata": {},
   "source": [
    "你预测的房价还是和实际价格相差约2550 美元。"
   ]
  },
  {
   "cell_type": "markdown",
   "metadata": {},
   "source": [
    "### 小结\n",
    "回归问题使用的损失函数与分类问题不同。回归常用的损失函数是均方误差（MSE）。\n",
    "\n",
    " 同样，回归问题使用的评估指标也与分类问题不同。显而易见，精度的概念不适用于回归问题。常见的回归指标是平均绝对误差（MAE）。\n",
    "\n",
    " 如果输入数据的特征具有不同的取值范围，应该先进行预处理，对每个特征单独进行缩放。\n",
    "\n",
    " 如果可用的数据很少，使用 K折验证可以可靠地评估模型。\n",
    "\n",
    " 如果可用的训练数据很少，最好使用隐藏层较少（通常只有一到两个）的小型网络，以避免严重的过拟合。"
   ]
  }
 ],
 "metadata": {
  "kernelspec": {
   "display_name": "Python 3",
   "language": "python",
   "name": "python3"
  },
  "language_info": {
   "codemirror_mode": {
    "name": "ipython",
    "version": 3
   },
   "file_extension": ".py",
   "mimetype": "text/x-python",
   "name": "python",
   "nbconvert_exporter": "python",
   "pygments_lexer": "ipython3",
   "version": "3.6.3"
  }
 },
 "nbformat": 4,
 "nbformat_minor": 2
}

{
 "cells": [
  {
   "cell_type": "markdown",
   "metadata": {},
   "source": [
    "## 3.5 Classifying newswires 新闻多分类\n",
    "上一节中，我们介绍了如何用密集连接的神经网络将向量输入划分为两个互斥的类别，但如果类别不止两个，要怎么做？\n",
    "\n",
    "本节你会构建一个网络，将路透社新闻划分为46 个互斥的主题。因为有多个类别，所以这是多分类（multiclass classification）问题的一个例子。因为每个数据点只能划分到一个类别，所以更具体地说，这是单标签、多分类（single-label, multiclass classification）问题的一个例子。如果每个数据点可以划分到多个类别（主题），那它就是一个多标签、多分类（multilabel,multiclass classification）问题。"
   ]
  },
  {
   "cell_type": "markdown",
   "metadata": {},
   "source": [
    "### 获取数据集\n",
    "本节使用路透社数据集，它包含许多短新闻及其对应的主题，由路透社在1986 年发布。它是一个简单的、广泛使用的文本分类数据集。它包括46 个不同的主题：某些主题的样本更多，但训练集中每个主题都有至少10 个样本。数据集本身也是Keras内置的一部分"
   ]
  },
  {
   "cell_type": "code",
   "execution_count": 2,
   "metadata": {},
   "outputs": [
    {
     "name": "stderr",
     "output_type": "stream",
     "text": [
      "D:\\ProgramData\\Anaconda3\\lib\\site-packages\\h5py\\__init__.py:36: FutureWarning: Conversion of the second argument of issubdtype from `float` to `np.floating` is deprecated. In future, it will be treated as `np.float64 == np.dtype(float).type`.\n",
      "  from ._conv import register_converters as _register_converters\n",
      "Using TensorFlow backend.\n"
     ]
    }
   ],
   "source": [
    "from keras.datasets import reuters\n",
    "# 与IMDB 数据集一样，参数num_words=10000 将数据限定为前10 000 个最常出现的单词。\n",
    "(train_data, train_labels), (test_data, test_labels) = reuters.load_data(num_words=10000)"
   ]
  },
  {
   "cell_type": "code",
   "execution_count": 3,
   "metadata": {},
   "outputs": [
    {
     "data": {
      "text/plain": [
       "8982"
      ]
     },
     "execution_count": 3,
     "metadata": {},
     "output_type": "execute_result"
    }
   ],
   "source": [
    "# 8982 个训练样本和2246 个测试样本\n",
    "len(train_data)"
   ]
  },
  {
   "cell_type": "code",
   "execution_count": 4,
   "metadata": {},
   "outputs": [
    {
     "data": {
      "text/plain": [
       "2246"
      ]
     },
     "execution_count": 4,
     "metadata": {},
     "output_type": "execute_result"
    }
   ],
   "source": [
    "len(test_data)"
   ]
  },
  {
   "cell_type": "code",
   "execution_count": 5,
   "metadata": {},
   "outputs": [
    {
     "data": {
      "text/plain": [
       "[1,\n",
       " 56,\n",
       " 5539,\n",
       " 925,\n",
       " 149,\n",
       " 8,\n",
       " 16,\n",
       " 23,\n",
       " 931,\n",
       " 3875,\n",
       " 25,\n",
       " 116,\n",
       " 5,\n",
       " 165,\n",
       " 15,\n",
       " 10,\n",
       " 67,\n",
       " 13,\n",
       " 12,\n",
       " 12,\n",
       " 11,\n",
       " 5311,\n",
       " 400,\n",
       " 81,\n",
       " 79,\n",
       " 457,\n",
       " 145,\n",
       " 22,\n",
       " 331,\n",
       " 28,\n",
       " 3026,\n",
       " 331,\n",
       " 61,\n",
       " 3609,\n",
       " 2097,\n",
       " 5311,\n",
       " 79,\n",
       " 64,\n",
       " 85,\n",
       " 1863,\n",
       " 84,\n",
       " 22,\n",
       " 44,\n",
       " 6206,\n",
       " 2275,\n",
       " 79,\n",
       " 296,\n",
       " 1384,\n",
       " 157,\n",
       " 5539,\n",
       " 8,\n",
       " 16,\n",
       " 23,\n",
       " 3875,\n",
       " 4,\n",
       " 116,\n",
       " 6,\n",
       " 837,\n",
       " 5311,\n",
       " 6,\n",
       " 3834,\n",
       " 31,\n",
       " 248,\n",
       " 1032,\n",
       " 8757,\n",
       " 4,\n",
       " 1618,\n",
       " 5,\n",
       " 37,\n",
       " 38,\n",
       " 1639,\n",
       " 27,\n",
       " 358,\n",
       " 37,\n",
       " 38,\n",
       " 4716,\n",
       " 9,\n",
       " 6,\n",
       " 9474,\n",
       " 4,\n",
       " 316,\n",
       " 9,\n",
       " 662,\n",
       " 5,\n",
       " 4,\n",
       " 765,\n",
       " 5,\n",
       " 291,\n",
       " 58,\n",
       " 60,\n",
       " 2660,\n",
       " 1067,\n",
       " 136,\n",
       " 4,\n",
       " 384,\n",
       " 292,\n",
       " 270,\n",
       " 120,\n",
       " 17,\n",
       " 12]"
      ]
     },
     "execution_count": 5,
     "metadata": {},
     "output_type": "execute_result"
    }
   ],
   "source": [
    "# 与IMDB 评论一样，每个样本都是一个整数列表（表示单词索引）。\n",
    "train_data[6]"
   ]
  },
  {
   "cell_type": "code",
   "execution_count": 6,
   "metadata": {},
   "outputs": [
    {
     "data": {
      "text/plain": [
       "array([ 3,  4,  3, ..., 25,  3, 25], dtype=int64)"
      ]
     },
     "execution_count": 6,
     "metadata": {},
     "output_type": "execute_result"
    }
   ],
   "source": [
    "train_labels"
   ]
  },
  {
   "cell_type": "markdown",
   "metadata": {},
   "source": [
    "### 编码数据\n",
    "可以使用与上一个例子相同的代码将数据向量化"
   ]
  },
  {
   "cell_type": "code",
   "execution_count": 7,
   "metadata": {},
   "outputs": [],
   "source": [
    "import numpy as np\n",
    "def vectorize_sequences(sequences, dimension=10000):\n",
    "    results = np.zeros((len(sequences), dimension))\n",
    "    for i, sequence in enumerate(sequences):\n",
    "        results[i, sequence] = 1.\n",
    "    return results\n",
    "x_train = vectorize_sequences(train_data)\n",
    "x_test = vectorize_sequences(test_data)"
   ]
  },
  {
   "cell_type": "markdown",
   "metadata": {},
   "source": [
    "将标签向量化有两种方法：你可以将标签列表转换为整数张量，或者使用one-hot 编码。one-hot 编码是分类数据广泛使用的一种格式，也叫分类编码（categorical encoding）。6.1 节给出了one-hot 编码的详细解释。在这个例子中，标签的one-hot 编码就是将每个标签表示为全零向量，只有标签索引对应的元素为1。其代码实现如下。"
   ]
  },
  {
   "cell_type": "code",
   "execution_count": 8,
   "metadata": {},
   "outputs": [],
   "source": [
    "def to_one_hot(labels, dimension=46):\n",
    "    results = np.zeros((len(labels),dimension))\n",
    "    for i ,label in enumerate(labels):\n",
    "        results[i,label] = 1.\n",
    "    return results\n",
    "one_hot_train_labels = to_one_hot(train_labels)  # 将训练标签向量化\n",
    "one_hot_test_labels = to_one_hot(test_labels)    # 将测试标签向量化"
   ]
  },
  {
   "cell_type": "code",
   "execution_count": 9,
   "metadata": {},
   "outputs": [
    {
     "data": {
      "text/plain": [
       "array([[0., 1., 1., ..., 0., 0., 0.],\n",
       "       [0., 1., 1., ..., 0., 0., 0.],\n",
       "       [0., 1., 1., ..., 0., 0., 0.],\n",
       "       ...,\n",
       "       [0., 1., 1., ..., 0., 0., 0.],\n",
       "       [0., 1., 1., ..., 0., 0., 0.],\n",
       "       [0., 1., 1., ..., 0., 0., 0.]])"
      ]
     },
     "execution_count": 9,
     "metadata": {},
     "output_type": "execute_result"
    }
   ],
   "source": [
    "x_train"
   ]
  },
  {
   "cell_type": "code",
   "execution_count": 10,
   "metadata": {},
   "outputs": [
    {
     "data": {
      "text/plain": [
       "array([[0., 0., 0., ..., 0., 0., 0.],\n",
       "       [0., 0., 0., ..., 0., 0., 0.],\n",
       "       [0., 0., 0., ..., 0., 0., 0.],\n",
       "       ...,\n",
       "       [0., 0., 0., ..., 0., 0., 0.],\n",
       "       [0., 0., 0., ..., 0., 0., 0.],\n",
       "       [0., 0., 0., ..., 0., 0., 0.]])"
      ]
     },
     "execution_count": 10,
     "metadata": {},
     "output_type": "execute_result"
    }
   ],
   "source": [
    "one_hot_train_labels"
   ]
  },
  {
   "cell_type": "code",
   "execution_count": 11,
   "metadata": {},
   "outputs": [
    {
     "data": {
      "text/plain": [
       "(8982, 46)"
      ]
     },
     "execution_count": 11,
     "metadata": {},
     "output_type": "execute_result"
    }
   ],
   "source": [
    "one_hot_train_labels.shape"
   ]
  },
  {
   "cell_type": "markdown",
   "metadata": {},
   "source": [
    "注意，Keras 内置方法可以实现这个操作，你在MNIST 例子中已经见过这种方法。            "
   ]
  },
  {
   "cell_type": "code",
   "execution_count": 12,
   "metadata": {},
   "outputs": [],
   "source": [
    "from keras.utils.np_utils import to_categorical\n",
    "one_hot_train_labels = to_categorical(train_labels)\n",
    "one_hot_test_labels = to_categorical(test_labels)"
   ]
  },
  {
   "cell_type": "code",
   "execution_count": 13,
   "metadata": {},
   "outputs": [
    {
     "data": {
      "text/plain": [
       "array([[0., 0., 0., ..., 0., 0., 0.],\n",
       "       [0., 0., 0., ..., 0., 0., 0.],\n",
       "       [0., 0., 0., ..., 0., 0., 0.],\n",
       "       ...,\n",
       "       [0., 0., 0., ..., 0., 0., 0.],\n",
       "       [0., 0., 0., ..., 0., 0., 0.],\n",
       "       [0., 0., 0., ..., 0., 0., 0.]], dtype=float32)"
      ]
     },
     "execution_count": 13,
     "metadata": {},
     "output_type": "execute_result"
    }
   ],
   "source": [
    "one_hot_train_labels"
   ]
  },
  {
   "cell_type": "markdown",
   "metadata": {},
   "source": [
    "### 构建网络\n",
    "这个主题分类问题与前面的电影评论分类问题类似，两个例子都是试图对简短的文本片段进行分类。但这个问题有一个新的约束条件：输出类别的数量从2 个变为46 个。输出空间的维度要大得多。\n",
    "\n",
    "对于前面用过的Dense 层的堆叠，每层只能访问上一层输出的信息。如果某一层丢失了与分类问题相关的一些信息，那么这些信息无法被后面的层找回，也就是说，每一层都可能成为信息瓶颈。上一个例子使用了16 维的中间层，但对这个例子来说16 维空间可能太小了，无法学会区分46 个不同的类别。这种维度较小的层可能成为信息瓶颈，永久地丢失相关信息。\n",
    "\n",
    "出于这个原因，下面将使用维度更大的层，包含64 个单元。"
   ]
  },
  {
   "cell_type": "code",
   "execution_count": 16,
   "metadata": {},
   "outputs": [],
   "source": [
    "from keras import models\n",
    "from keras import layers\n",
    "model = models.Sequential()\n",
    "model.add(layers.Dense(64,activation='relu',input_shape=(10000,)))\n",
    "model.add(layers.Dense(64,activation='relu'))\n",
    "model.add(layers.Dense(46,activation='softmax'))"
   ]
  },
  {
   "cell_type": "markdown",
   "metadata": {},
   "source": [
    "关于这个架构还应该注意另外两点。\n",
    "\n",
    " 网络的最后一层是大小为 46 的 Dense 层。这意味着，对于每个输入样本，网络都会输\n",
    "出一个46 维向量。这个向量的每个元素（即每个维度）代表不同的输出类别。\n",
    "\n",
    " 最后一层使用了 softmax 激活。你在 MNIST 例子中见过这种用法。网络将输出在 46\n",
    "个不同输出类别上的概率分布——对于每一个输入样本，网络都会输出一个46 维向量，\n",
    "其中output[i] 是样本属于第i 个类别的概率。46 个概率的总和为1。"
   ]
  },
  {
   "cell_type": "markdown",
   "metadata": {},
   "source": [
    "对于这个例子，最好的损失函数是categorical_crossentropy（分类交叉熵）。它用于衡量两个概率分布之间的距离，这里两个概率分布分别是网络输出的概率分布和标签的真实分布。通过将这两个分布的距离最小化，训练网络可使输出结果尽可能接近真实标签。"
   ]
  },
  {
   "cell_type": "code",
   "execution_count": 17,
   "metadata": {},
   "outputs": [],
   "source": [
    "model.compile(optimizer='rmsprop',loss='categorical_crossentropy',metrics=['accuracy'])"
   ]
  },
  {
   "cell_type": "markdown",
   "metadata": {},
   "source": [
    "### 验证你的方法\n",
    "我们在训练数据中留出1000 个样本作为验证集\n",
    "\n",
    "留出验证集"
   ]
  },
  {
   "cell_type": "code",
   "execution_count": 18,
   "metadata": {},
   "outputs": [],
   "source": [
    "x_val = x_train[:1000]\n",
    "partial_x_train = x_train[1000:]\n",
    "y_val = one_hot_train_labels[:1000]\n",
    "partial_y_train = one_hot_train_labels[1000:]"
   ]
  },
  {
   "cell_type": "markdown",
   "metadata": {},
   "source": [
    "现在开始训练网络，共20 个轮次"
   ]
  },
  {
   "cell_type": "code",
   "execution_count": 19,
   "metadata": {},
   "outputs": [
    {
     "name": "stdout",
     "output_type": "stream",
     "text": [
      "Train on 7982 samples, validate on 1000 samples\n",
      "Epoch 1/20\n",
      "7982/7982 [==============================] - 3s 321us/step - loss: 2.5526 - acc: 0.5246 - val_loss: 1.7375 - val_acc: 0.6370\n",
      "Epoch 2/20\n",
      "7982/7982 [==============================] - 2s 188us/step - loss: 1.4267 - acc: 0.7095 - val_loss: 1.3158 - val_acc: 0.7210\n",
      "Epoch 3/20\n",
      "7982/7982 [==============================] - 1s 183us/step - loss: 1.0580 - acc: 0.7806 - val_loss: 1.1526 - val_acc: 0.7470\n",
      "Epoch 4/20\n",
      "7982/7982 [==============================] - 1s 183us/step - loss: 0.8319 - acc: 0.8255 - val_loss: 1.0610 - val_acc: 0.7640\n",
      "Epoch 5/20\n",
      "7982/7982 [==============================] - 1s 182us/step - loss: 0.6625 - acc: 0.8624 - val_loss: 0.9790 - val_acc: 0.7840\n",
      "Epoch 6/20\n",
      "7982/7982 [==============================] - 1s 185us/step - loss: 0.5289 - acc: 0.8903 - val_loss: 0.9439 - val_acc: 0.7890\n",
      "Epoch 7/20\n",
      "7982/7982 [==============================] - 2s 205us/step - loss: 0.4269 - acc: 0.9095 - val_loss: 0.9380 - val_acc: 0.7970\n",
      "Epoch 8/20\n",
      "7982/7982 [==============================] - 2s 191us/step - loss: 0.3424 - acc: 0.9261 - val_loss: 0.8820 - val_acc: 0.8070\n",
      "Epoch 9/20\n",
      "7982/7982 [==============================] - 2s 189us/step - loss: 0.2872 - acc: 0.9375 - val_loss: 0.9104 - val_acc: 0.8070\n",
      "Epoch 10/20\n",
      "7982/7982 [==============================] - 1s 187us/step - loss: 0.2392 - acc: 0.9451 - val_loss: 0.8955 - val_acc: 0.8140\n",
      "Epoch 11/20\n",
      "7982/7982 [==============================] - 2s 191us/step - loss: 0.2049 - acc: 0.9488 - val_loss: 0.9068 - val_acc: 0.8150\n",
      "Epoch 12/20\n",
      "7982/7982 [==============================] - 1s 184us/step - loss: 0.1835 - acc: 0.9503 - val_loss: 0.9397 - val_acc: 0.8140\n",
      "Epoch 13/20\n",
      "7982/7982 [==============================] - 2s 192us/step - loss: 0.1633 - acc: 0.9560 - val_loss: 0.9709 - val_acc: 0.8120\n",
      "Epoch 14/20\n",
      "7982/7982 [==============================] - 2s 198us/step - loss: 0.1489 - acc: 0.9554 - val_loss: 0.9616 - val_acc: 0.8020\n",
      "Epoch 15/20\n",
      "7982/7982 [==============================] - 1s 187us/step - loss: 0.1379 - acc: 0.9558 - val_loss: 0.9684 - val_acc: 0.8220\n",
      "Epoch 16/20\n",
      "7982/7982 [==============================] - 1s 185us/step - loss: 0.1280 - acc: 0.9579 - val_loss: 0.9612 - val_acc: 0.8130\n",
      "Epoch 17/20\n",
      "7982/7982 [==============================] - 1s 185us/step - loss: 0.1238 - acc: 0.9588 - val_loss: 0.9906 - val_acc: 0.8080\n",
      "Epoch 18/20\n",
      "7982/7982 [==============================] - 1s 186us/step - loss: 0.1205 - acc: 0.9569 - val_loss: 1.0271 - val_acc: 0.8130\n",
      "Epoch 19/20\n",
      "7982/7982 [==============================] - 1s 186us/step - loss: 0.1177 - acc: 0.9573 - val_loss: 1.0166 - val_acc: 0.8100\n",
      "Epoch 20/20\n",
      "7982/7982 [==============================] - 2s 209us/step - loss: 0.1081 - acc: 0.9592 - val_loss: 1.0619 - val_acc: 0.7950\n"
     ]
    }
   ],
   "source": [
    "history = model.fit(partial_x_train,\n",
    "                    partial_y_train,\n",
    "                    epochs=20,\n",
    "                    batch_size=512,\n",
    "                    validation_data=(x_val, y_val))"
   ]
  },
  {
   "cell_type": "markdown",
   "metadata": {},
   "source": [
    "绘制训练损失和验证损失"
   ]
  },
  {
   "cell_type": "code",
   "execution_count": 21,
   "metadata": {},
   "outputs": [
    {
     "data": {
      "image/png": "[encoded data removed]",
      "text/plain": [
       "<matplotlib.figure.Figure at 0x2657274ce80>"
      ]
     },
     "metadata": {},
     "output_type": "display_data"
    }
   ],
   "source": [
    "import matplotlib.pyplot as plt\n",
    "loss = history.history['loss']\n",
    "val_loss = history.history['val_loss']\n",
    "epochs = range(1,len(loss)+1)\n",
    "plt.plot(epochs,loss,'bo', label='Training loss')\n",
    "plt.plot(epochs,val_loss,'b', label='Validation loss')\n",
    "plt.xlabel('Epochs')\n",
    "plt.ylabel('Loss')\n",
    "plt.legend()\n",
    "plt.show()"
   ]
  },
  {
   "cell_type": "markdown",
   "metadata": {},
   "source": [
    "绘制训练精度和验证精度"
   ]
  },
  {
   "cell_type": "code",
   "execution_count": 22,
   "metadata": {},
   "outputs": [
    {
     "data": {
      "image/png": "[encoded data removed]",
      "text/plain": [
       "<matplotlib.figure.Figure at 0x265727d4a90>"
      ]
     },
     "metadata": {},
     "output_type": "display_data"
    }
   ],
   "source": [
    "plt.clf()\n",
    "acc = history.history['acc']\n",
    "val_acc = history.history['val_acc']\n",
    "plt.plot(epochs, acc, 'bo', label='Training acc')\n",
    "plt.plot(epochs, val_acc, 'b', label='Validation acc')\n",
    "plt.title('Training and validation accuracy')\n",
    "plt.xlabel('Epochs')\n",
    "plt.ylabel('Accuracy')\n",
    "plt.legend()\n",
    "plt.show()"
   ]
  },
  {
   "cell_type": "markdown",
   "metadata": {},
   "source": [
    "网络在训练9 轮后开始过拟合。我们从头开始训练一个新网络，共9 个轮次，然后在测试集上评估模型"
   ]
  },
  {
   "cell_type": "markdown",
   "metadata": {},
   "source": [
    "从头开始重新训练一个模型"
   ]
  },
  {
   "cell_type": "code",
   "execution_count": 23,
   "metadata": {},
   "outputs": [
    {
     "name": "stdout",
     "output_type": "stream",
     "text": [
      "Train on 7982 samples, validate on 1000 samples\n",
      "Epoch 1/9\n",
      "7982/7982 [==============================] - 2s 216us/step - loss: 2.5396 - acc: 0.5226 - val_loss: 1.6733 - val_acc: 0.6570\n",
      "Epoch 2/9\n",
      "7982/7982 [==============================] - 1s 182us/step - loss: 1.3712 - acc: 0.7117 - val_loss: 1.2746 - val_acc: 0.7200\n",
      "Epoch 3/9\n",
      "7982/7982 [==============================] - 1s 179us/step - loss: 1.0130 - acc: 0.7781 - val_loss: 1.1314 - val_acc: 0.7510\n",
      "Epoch 4/9\n",
      "7982/7982 [==============================] - 1s 181us/step - loss: 0.7975 - acc: 0.8254 - val_loss: 1.0534 - val_acc: 0.7580\n",
      "Epoch 5/9\n",
      "7982/7982 [==============================] - 1s 177us/step - loss: 0.6390 - acc: 0.8634 - val_loss: 0.9762 - val_acc: 0.7940\n",
      "Epoch 6/9\n",
      "7982/7982 [==============================] - 1s 183us/step - loss: 0.5111 - acc: 0.8925 - val_loss: 0.9089 - val_acc: 0.8140\n",
      "Epoch 7/9\n",
      "7982/7982 [==============================] - 1s 179us/step - loss: 0.4107 - acc: 0.9147 - val_loss: 0.8905 - val_acc: 0.8200\n",
      "Epoch 8/9\n",
      "7982/7982 [==============================] - 1s 181us/step - loss: 0.3344 - acc: 0.9292 - val_loss: 0.8712 - val_acc: 0.8290\n",
      "Epoch 9/9\n",
      "7982/7982 [==============================] - 1s 178us/step - loss: 0.2775 - acc: 0.9367 - val_loss: 0.9364 - val_acc: 0.8010\n"
     ]
    },
    {
     "data": {
      "text/plain": [
       "<keras.callbacks.History at 0x26572d16400>"
      ]
     },
     "execution_count": 23,
     "metadata": {},
     "output_type": "execute_result"
    }
   ],
   "source": [
    "model = models.Sequential()\n",
    "model.add(layers.Dense(64,activation='relu',input_shape=(10000,)))\n",
    "model.add(layers.Dense(64,activation='relu'))\n",
    "model.add(layers.Dense(46,activation='softmax'))\n",
    "model.compile(optimizer='rmsprop',loss='categorical_crossentropy',metrics=['accuracy'])\n",
    "model.fit(partial_x_train,partial_y_train,epochs=9,batch_size=512,validation_data=(x_val,y_val))"
   ]
  },
  {
   "cell_type": "code",
   "execution_count": 24,
   "metadata": {},
   "outputs": [
    {
     "name": "stdout",
     "output_type": "stream",
     "text": [
      "2246/2246 [==============================] - 1s 281us/step\n"
     ]
    },
    {
     "data": {
      "text/plain": [
       "[1.0248980018992777, 0.7764915405695499]"
      ]
     },
     "execution_count": 24,
     "metadata": {},
     "output_type": "execute_result"
    }
   ],
   "source": [
    "results = model.evaluate(x_test,one_hot_test_labels)\n",
    "results"
   ]
  },
  {
   "cell_type": "markdown",
   "metadata": {},
   "source": [
    "在新数据上生成预测结果"
   ]
  },
  {
   "cell_type": "code",
   "execution_count": 25,
   "metadata": {},
   "outputs": [],
   "source": [
    "predictions = model.predict(x_test)"
   ]
  },
  {
   "cell_type": "code",
   "execution_count": 26,
   "metadata": {},
   "outputs": [
    {
     "data": {
      "text/plain": [
       "array([[1.0033132e-05, 8.5511281e-05, 2.6822054e-05, ..., 3.2219876e-05,\n",
       "        6.5403738e-06, 9.7547336e-06],\n",
       "       [8.6128834e-04, 1.9036099e-02, 3.8210184e-03, ..., 5.9888174e-04,\n",
       "        1.2981832e-05, 2.9760136e-04],\n",
       "       [1.7774410e-03, 7.6527029e-01, 2.9769260e-03, ..., 1.5738426e-04,\n",
       "        1.9118023e-03, 2.1999619e-04],\n",
       "       ...,\n",
       "       [1.1235362e-05, 2.1618542e-04, 4.0543520e-05, ..., 9.1064512e-06,\n",
       "        1.1658003e-04, 1.1625566e-05],\n",
       "       [1.3548984e-03, 1.2299884e-01, 3.5364276e-03, ..., 6.1818131e-04,\n",
       "        7.5275544e-04, 3.8147951e-04],\n",
       "       [8.9320680e-04, 5.3720850e-01, 2.0211563e-03, ..., 5.3426706e-05,\n",
       "        4.8396137e-04, 2.0715705e-04]], dtype=float32)"
      ]
     },
     "execution_count": 26,
     "metadata": {},
     "output_type": "execute_result"
    }
   ],
   "source": [
    "predictions"
   ]
  },
  {
   "cell_type": "code",
   "execution_count": 27,
   "metadata": {},
   "outputs": [
    {
     "data": {
      "text/plain": [
       "(46,)"
      ]
     },
     "execution_count": 27,
     "metadata": {},
     "output_type": "execute_result"
    }
   ],
   "source": [
    "# predictions 中的每个元素都是长度为46 的向量。\n",
    "predictions[0].shape"
   ]
  },
  {
   "cell_type": "code",
   "execution_count": 28,
   "metadata": {},
   "outputs": [
    {
     "data": {
      "text/plain": [
       "1.0000001"
      ]
     },
     "execution_count": 28,
     "metadata": {},
     "output_type": "execute_result"
    }
   ],
   "source": [
    "# 这个向量的所有元素总和为1。\n",
    "np.sum(predictions[0])"
   ]
  },
  {
   "cell_type": "code",
   "execution_count": 29,
   "metadata": {},
   "outputs": [
    {
     "data": {
      "text/plain": [
       "3"
      ]
     },
     "execution_count": 29,
     "metadata": {},
     "output_type": "execute_result"
    }
   ],
   "source": [
    "# 最大的元素就是预测类别，即概率最大的类别。\n",
    "np.argmax(predictions[0])"
   ]
  },
  {
   "cell_type": "markdown",
   "metadata": {},
   "source": [
    "#### 处理标签和损失的另一种方法\n",
    "前面提到了另一种编码标签的方法，就是将其转换为整数张量，如下所示。\n",
    "\n",
    "y_train = np.array(train_labels)\n",
    "\n",
    "y_test = np.array(test_labels)\n",
    "\n",
    "对于这种编码方法，唯一需要改变的是损失函数的选择。对于代码清单3-21 使用的损失函数categorical_crossentropy，标签应该遵循分类编码。对于整数标签，你应该使用sparse_categorical_crossentropy。"
   ]
  },
  {
   "cell_type": "code",
   "execution_count": 30,
   "metadata": {},
   "outputs": [],
   "source": [
    "model.compile(optimizer='rmsprop',loss='sparse_categorical_crossentropy',\n",
    "             metrics=['accuracy'])"
   ]
  },
  {
   "cell_type": "markdown",
   "metadata": {},
   "source": [
    "这个新的损失函数在数学上与categorical_crossentropy 完全相同，二者只是接口不同"
   ]
  },
  {
   "cell_type": "markdown",
   "metadata": {},
   "source": [
    "#### 中间层维度足够大的重要性\n",
    "\n",
    "前面提到，最终输出是46 维的，因此中间层的隐藏单元个数不应该比46 小太多。现在来看一下，如果中间层的维度远远小于46（比如4 维），造成了信息瓶颈，那么会发生什么？"
   ]
  },
  {
   "cell_type": "markdown",
   "metadata": {},
   "source": [
    "##### 具有信息瓶颈的模型"
   ]
  },
  {
   "cell_type": "code",
   "execution_count": 31,
   "metadata": {},
   "outputs": [
    {
     "name": "stdout",
     "output_type": "stream",
     "text": [
      "Train on 7982 samples, validate on 1000 samples\n",
      "Epoch 1/20\n",
      "7982/7982 [==============================] - 2s 271us/step - loss: 3.5511 - acc: 0.1936 - val_loss: 3.3091 - val_acc: 0.2380\n",
      "Epoch 2/20\n",
      "7982/7982 [==============================] - 1s 184us/step - loss: 3.1229 - acc: 0.2601 - val_loss: 2.9541 - val_acc: 0.2570\n",
      "Epoch 3/20\n",
      "7982/7982 [==============================] - 2s 189us/step - loss: 2.7377 - acc: 0.2790 - val_loss: 2.6204 - val_acc: 0.2830\n",
      "Epoch 4/20\n",
      "7982/7982 [==============================] - 2s 189us/step - loss: 2.3876 - acc: 0.3076 - val_loss: 2.3089 - val_acc: 0.3960\n",
      "Epoch 5/20\n",
      "7982/7982 [==============================] - 2s 189us/step - loss: 2.0411 - acc: 0.5801 - val_loss: 1.9826 - val_acc: 0.6090\n",
      "Epoch 6/20\n",
      "7982/7982 [==============================] - 2s 192us/step - loss: 1.7230 - acc: 0.6427 - val_loss: 1.7554 - val_acc: 0.6170\n",
      "Epoch 7/20\n",
      "7982/7982 [==============================] - 2s 189us/step - loss: 1.5039 - acc: 0.6550 - val_loss: 1.6185 - val_acc: 0.6300\n",
      "Epoch 8/20\n",
      "7982/7982 [==============================] - 1s 187us/step - loss: 1.3657 - acc: 0.6640 - val_loss: 1.5431 - val_acc: 0.6360\n",
      "Epoch 9/20\n",
      "7982/7982 [==============================] - 1s 184us/step - loss: 1.2660 - acc: 0.6730 - val_loss: 1.5089 - val_acc: 0.6360\n",
      "Epoch 10/20\n",
      "7982/7982 [==============================] - 1s 184us/step - loss: 1.1889 - acc: 0.6961 - val_loss: 1.4778 - val_acc: 0.6590\n",
      "Epoch 11/20\n",
      "7982/7982 [==============================] - 1s 182us/step - loss: 1.1233 - acc: 0.7270 - val_loss: 1.4507 - val_acc: 0.6710\n",
      "Epoch 12/20\n",
      "7982/7982 [==============================] - 1s 183us/step - loss: 1.0658 - acc: 0.7368 - val_loss: 1.4297 - val_acc: 0.6770\n",
      "Epoch 13/20\n",
      "7982/7982 [==============================] - 2s 193us/step - loss: 1.0167 - acc: 0.7420 - val_loss: 1.4192 - val_acc: 0.6820\n",
      "Epoch 14/20\n",
      "7982/7982 [==============================] - 2s 219us/step - loss: 0.9731 - acc: 0.7458 - val_loss: 1.4298 - val_acc: 0.6820\n",
      "Epoch 15/20\n",
      "7982/7982 [==============================] - 2s 193us/step - loss: 0.9320 - acc: 0.7477 - val_loss: 1.4172 - val_acc: 0.6880\n",
      "Epoch 16/20\n",
      "7982/7982 [==============================] - 2s 201us/step - loss: 0.8960 - acc: 0.7533 - val_loss: 1.4130 - val_acc: 0.6840\n",
      "Epoch 17/20\n",
      "7982/7982 [==============================] - 2s 193us/step - loss: 0.8617 - acc: 0.7572 - val_loss: 1.4238 - val_acc: 0.6850\n",
      "Epoch 18/20\n",
      "7982/7982 [==============================] - 2s 200us/step - loss: 0.8283 - acc: 0.7586 - val_loss: 1.4154 - val_acc: 0.6870\n",
      "Epoch 19/20\n",
      "7982/7982 [==============================] - 2s 205us/step - loss: 0.7992 - acc: 0.7626 - val_loss: 1.4337 - val_acc: 0.6920\n",
      "Epoch 20/20\n",
      "7982/7982 [==============================] - 2s 206us/step - loss: 0.7677 - acc: 0.7719 - val_loss: 1.4501 - val_acc: 0.6850\n"
     ]
    },
    {
     "data": {
      "text/plain": [
       "<keras.callbacks.History at 0x26573a17cf8>"
      ]
     },
     "execution_count": 31,
     "metadata": {},
     "output_type": "execute_result"
    }
   ],
   "source": [
    "model = models.Sequential()\n",
    "model.add(layers.Dense(64,activation='relu',input_shape=(10000,)))\n",
    "model.add(layers.Dense(4,activation='relu'))\n",
    "model.add(layers.Dense(46,activation='softmax'))\n",
    "model.compile(optimizer='rmsprop',\n",
    "             loss='categorical_crossentropy',\n",
    "             metrics=['accuracy'])\n",
    "model.fit(partial_x_train,partial_y_train,epochs=20,batch_size=512,validation_data=(x_val,y_val))"
   ]
  },
  {
   "cell_type": "markdown",
   "metadata": {},
   "source": [
    "现在网络的验证精度最大约为68.5%，比前面下降了8%。导致这一下降的主要原因在于，你试图将大量信息（这些信息足够恢复46 个类别的分割超平面）压缩到维度很小的中间空间。网络能够将大部分必要信息塞入这个四维表示中，但并不是全部信息。"
   ]
  },
  {
   "cell_type": "markdown",
   "metadata": {},
   "source": [
    "#### 进一步的实验\n",
    "尝试使用更多或更少的隐藏单元，比如 32 个、128 个等。\n",
    "\n",
    "前面使用了两个隐藏层，现在尝试使用一个或三个隐藏层。"
   ]
  },
  {
   "cell_type": "code",
   "execution_count": 32,
   "metadata": {},
   "outputs": [
    {
     "name": "stdout",
     "output_type": "stream",
     "text": [
      "Train on 7982 samples, validate on 1000 samples\n",
      "Epoch 1/20\n",
      "7982/7982 [==============================] - 2s 220us/step - loss: 3.0507 - acc: 0.5104 - val_loss: 2.2591 - val_acc: 0.6520\n",
      "Epoch 2/20\n",
      "7982/7982 [==============================] - 2s 189us/step - loss: 1.8738 - acc: 0.6884 - val_loss: 1.6095 - val_acc: 0.6780\n",
      "Epoch 3/20\n",
      "7982/7982 [==============================] - 2s 188us/step - loss: 1.3692 - acc: 0.7310 - val_loss: 1.3480 - val_acc: 0.7200\n",
      "Epoch 4/20\n",
      "7982/7982 [==============================] - 1s 188us/step - loss: 1.0958 - acc: 0.7707 - val_loss: 1.2083 - val_acc: 0.7420\n",
      "Epoch 5/20\n",
      "7982/7982 [==============================] - 1s 187us/step - loss: 0.9167 - acc: 0.8088 - val_loss: 1.1178 - val_acc: 0.7630\n",
      "Epoch 6/20\n",
      "7982/7982 [==============================] - 2s 190us/step - loss: 0.7712 - acc: 0.8404 - val_loss: 1.0529 - val_acc: 0.7880\n",
      "Epoch 7/20\n",
      "7982/7982 [==============================] - 2s 200us/step - loss: 0.6530 - acc: 0.8648 - val_loss: 0.9998 - val_acc: 0.8000\n",
      "Epoch 8/20\n",
      "7982/7982 [==============================] - 2s 189us/step - loss: 0.5542 - acc: 0.8836 - val_loss: 0.9733 - val_acc: 0.7950\n",
      "Epoch 9/20\n",
      "7982/7982 [==============================] - 2s 189us/step - loss: 0.4745 - acc: 0.9005 - val_loss: 0.9579 - val_acc: 0.7980\n",
      "Epoch 10/20\n",
      "7982/7982 [==============================] - 2s 192us/step - loss: 0.4085 - acc: 0.9163 - val_loss: 0.9272 - val_acc: 0.8180\n",
      "Epoch 11/20\n",
      "7982/7982 [==============================] - 2s 191us/step - loss: 0.3527 - acc: 0.9247 - val_loss: 0.9339 - val_acc: 0.8050\n",
      "Epoch 12/20\n",
      "7982/7982 [==============================] - 2s 190us/step - loss: 0.3080 - acc: 0.9330 - val_loss: 0.9148 - val_acc: 0.8130\n",
      "Epoch 13/20\n",
      "7982/7982 [==============================] - 1s 188us/step - loss: 0.2709 - acc: 0.9382 - val_loss: 0.9467 - val_acc: 0.8140\n",
      "Epoch 14/20\n",
      "7982/7982 [==============================] - 2s 193us/step - loss: 0.2362 - acc: 0.9450 - val_loss: 0.9346 - val_acc: 0.8110: 0.2368 - acc: 0.944\n",
      "Epoch 15/20\n",
      "7982/7982 [==============================] - 1s 187us/step - loss: 0.2158 - acc: 0.9468 - val_loss: 0.9636 - val_acc: 0.8170\n",
      "Epoch 16/20\n",
      "7982/7982 [==============================] - 2s 189us/step - loss: 0.1957 - acc: 0.9478 - val_loss: 0.9456 - val_acc: 0.8160\n",
      "Epoch 17/20\n",
      "7982/7982 [==============================] - 2s 188us/step - loss: 0.1751 - acc: 0.9529 - val_loss: 1.0124 - val_acc: 0.8030\n",
      "Epoch 18/20\n",
      "7982/7982 [==============================] - 2s 193us/step - loss: 0.1643 - acc: 0.9519 - val_loss: 0.9904 - val_acc: 0.8070 0.1597 - acc: 0.953\n",
      "Epoch 19/20\n",
      "7982/7982 [==============================] - 2s 190us/step - loss: 0.1508 - acc: 0.9528 - val_loss: 1.0041 - val_acc: 0.8090\n",
      "Epoch 20/20\n",
      "7982/7982 [==============================] - 2s 189us/step - loss: 0.1421 - acc: 0.9549 - val_loss: 1.0111 - val_acc: 0.8060\n"
     ]
    },
    {
     "data": {
      "text/plain": [
       "<keras.callbacks.History at 0x265737f85f8>"
      ]
     },
     "execution_count": 32,
     "metadata": {},
     "output_type": "execute_result"
    }
   ],
   "source": [
    "# 更少的隐藏单元\n",
    "model = models.Sequential()\n",
    "model.add(layers.Dense(64,activation='relu',input_shape=(10000,)))\n",
    "model.add(layers.Dense(16,activation='relu'))\n",
    "model.add(layers.Dense(46,activation='softmax'))\n",
    "model.compile(optimizer='rmsprop',\n",
    "             loss='categorical_crossentropy',\n",
    "             metrics=['accuracy'])\n",
    "model.fit(partial_x_train,partial_y_train,epochs=20,batch_size=512,validation_data=(x_val,y_val))"
   ]
  },
  {
   "cell_type": "markdown",
   "metadata": {},
   "source": [
    "精度提高到80%"
   ]
  },
  {
   "cell_type": "code",
   "execution_count": 33,
   "metadata": {},
   "outputs": [
    {
     "name": "stdout",
     "output_type": "stream",
     "text": [
      "Train on 7982 samples, validate on 1000 samples\n",
      "Epoch 1/20\n",
      "7982/7982 [==============================] - 2s 230us/step - loss: 2.5566 - acc: 0.4872 - val_loss: 1.6922 - val_acc: 0.6300\n",
      "Epoch 2/20\n",
      "7982/7982 [==============================] - 2s 190us/step - loss: 1.3902 - acc: 0.7012 - val_loss: 1.2726 - val_acc: 0.7090\n",
      "Epoch 3/20\n",
      "7982/7982 [==============================] - 2s 194us/step - loss: 1.0288 - acc: 0.7781 - val_loss: 1.1113 - val_acc: 0.7670\n",
      "Epoch 4/20\n",
      "7982/7982 [==============================] - 2s 211us/step - loss: 0.7989 - acc: 0.8302 - val_loss: 1.0009 - val_acc: 0.7970\n",
      "Epoch 5/20\n",
      "7982/7982 [==============================] - 2s 189us/step - loss: 0.6272 - acc: 0.8673 - val_loss: 0.9718 - val_acc: 0.7830\n",
      "Epoch 6/20\n",
      "7982/7982 [==============================] - 2s 194us/step - loss: 0.4962 - acc: 0.8934 - val_loss: 0.8835 - val_acc: 0.8130\n",
      "Epoch 7/20\n",
      "7982/7982 [==============================] - 2s 194us/step - loss: 0.3890 - acc: 0.9193 - val_loss: 0.8995 - val_acc: 0.8030\n",
      "Epoch 8/20\n",
      "7982/7982 [==============================] - 2s 201us/step - loss: 0.3135 - acc: 0.9320 - val_loss: 0.8550 - val_acc: 0.8180\n",
      "Epoch 9/20\n",
      "7982/7982 [==============================] - 2s 199us/step - loss: 0.2561 - acc: 0.9416 - val_loss: 0.8621 - val_acc: 0.8210\n",
      "Epoch 10/20\n",
      "7982/7982 [==============================] - 2s 193us/step - loss: 0.2182 - acc: 0.9466 - val_loss: 0.8889 - val_acc: 0.8150\n",
      "Epoch 11/20\n",
      "7982/7982 [==============================] - 2s 192us/step - loss: 0.1875 - acc: 0.9515 - val_loss: 0.9303 - val_acc: 0.8100\n",
      "Epoch 12/20\n",
      "7982/7982 [==============================] - 2s 204us/step - loss: 0.1692 - acc: 0.9545 - val_loss: 0.9067 - val_acc: 0.8170\n",
      "Epoch 13/20\n",
      "7982/7982 [==============================] - 2s 191us/step - loss: 0.1535 - acc: 0.9524 - val_loss: 0.9543 - val_acc: 0.8100\n",
      "Epoch 14/20\n",
      "7982/7982 [==============================] - 2s 193us/step - loss: 0.1416 - acc: 0.9557 - val_loss: 0.9557 - val_acc: 0.8140\n",
      "Epoch 15/20\n",
      "7982/7982 [==============================] - 2s 209us/step - loss: 0.1305 - acc: 0.9569 - val_loss: 0.9830 - val_acc: 0.8120\n",
      "Epoch 16/20\n",
      "7982/7982 [==============================] - 2s 188us/step - loss: 0.1231 - acc: 0.9570 - val_loss: 0.9898 - val_acc: 0.8070\n",
      "Epoch 17/20\n",
      "7982/7982 [==============================] - 2s 195us/step - loss: 0.1191 - acc: 0.9582 - val_loss: 1.0014 - val_acc: 0.8120\n",
      "Epoch 18/20\n",
      "7982/7982 [==============================] - 2s 216us/step - loss: 0.1180 - acc: 0.9560 - val_loss: 1.0061 - val_acc: 0.8090\n",
      "Epoch 19/20\n",
      "7982/7982 [==============================] - 2s 248us/step - loss: 0.1101 - acc: 0.9610 - val_loss: 1.0343 - val_acc: 0.8010\n",
      "Epoch 20/20\n",
      "7982/7982 [==============================] - 2s 246us/step - loss: 0.1078 - acc: 0.9569 - val_loss: 1.0532 - val_acc: 0.8050\n"
     ]
    },
    {
     "data": {
      "text/plain": [
       "<keras.callbacks.History at 0x26574024e10>"
      ]
     },
     "execution_count": 33,
     "metadata": {},
     "output_type": "execute_result"
    }
   ],
   "source": [
    "# 更多的隐藏单元\n",
    "model = models.Sequential()\n",
    "model.add(layers.Dense(64,activation='relu',input_shape=(10000,)))\n",
    "model.add(layers.Dense(128,activation='relu'))\n",
    "model.add(layers.Dense(46,activation='softmax'))\n",
    "model.compile(optimizer='rmsprop',\n",
    "             loss='categorical_crossentropy',\n",
    "             metrics=['accuracy'])\n",
    "model.fit(partial_x_train,partial_y_train,epochs=20,batch_size=512,validation_data=(x_val,y_val))"
   ]
  },
  {
   "cell_type": "markdown",
   "metadata": {},
   "source": [
    "当模型训练到第9轮的时候，很明显的出现了过拟合\n",
    "\n",
    "下面尝试更多的隐藏层"
   ]
  },
  {
   "cell_type": "code",
   "execution_count": 34,
   "metadata": {},
   "outputs": [
    {
     "name": "stdout",
     "output_type": "stream",
     "text": [
      "Train on 7982 samples, validate on 1000 samples\n",
      "Epoch 1/20\n",
      "7982/7982 [==============================] - 2s 234us/step - loss: 3.0277 - acc: 0.4308 - val_loss: 2.0300 - val_acc: 0.6030\n",
      "Epoch 2/20\n",
      "7982/7982 [==============================] - 2s 188us/step - loss: 1.6507 - acc: 0.6724 - val_loss: 1.4828 - val_acc: 0.6870\n",
      "Epoch 3/20\n",
      "7982/7982 [==============================] - 2s 189us/step - loss: 1.2066 - acc: 0.7373 - val_loss: 1.2839 - val_acc: 0.7160\n",
      "Epoch 4/20\n",
      "7982/7982 [==============================] - 2s 191us/step - loss: 0.9648 - acc: 0.7819 - val_loss: 1.1448 - val_acc: 0.7470\n",
      "Epoch 5/20\n",
      "7982/7982 [==============================] - 2s 204us/step - loss: 0.7819 - acc: 0.8156 - val_loss: 1.0629 - val_acc: 0.7840\n",
      "Epoch 6/20\n",
      "7982/7982 [==============================] - 2s 201us/step - loss: 0.6399 - acc: 0.8518 - val_loss: 1.0706 - val_acc: 0.7660\n",
      "Epoch 7/20\n",
      "7982/7982 [==============================] - 2s 190us/step - loss: 0.5194 - acc: 0.8852 - val_loss: 1.0685 - val_acc: 0.7670\n",
      "Epoch 8/20\n",
      "7982/7982 [==============================] - 2s 194us/step - loss: 0.4329 - acc: 0.9032 - val_loss: 1.0355 - val_acc: 0.7900\n",
      "Epoch 9/20\n",
      "7982/7982 [==============================] - 2s 199us/step - loss: 0.3550 - acc: 0.9225 - val_loss: 0.9933 - val_acc: 0.8100\n",
      "Epoch 10/20\n",
      "7982/7982 [==============================] - 2s 190us/step - loss: 0.2998 - acc: 0.9346 - val_loss: 1.0150 - val_acc: 0.8020\n",
      "Epoch 11/20\n",
      "7982/7982 [==============================] - 2s 203us/step - loss: 0.2579 - acc: 0.9425 - val_loss: 1.0153 - val_acc: 0.8010\n",
      "Epoch 12/20\n",
      "7982/7982 [==============================] - 2s 194us/step - loss: 0.2202 - acc: 0.9474 - val_loss: 1.1349 - val_acc: 0.7690\n",
      "Epoch 13/20\n",
      "7982/7982 [==============================] - 2s 194us/step - loss: 0.2039 - acc: 0.9485 - val_loss: 1.0786 - val_acc: 0.7970\n",
      "Epoch 14/20\n",
      "7982/7982 [==============================] - 2s 192us/step - loss: 0.1731 - acc: 0.9525 - val_loss: 1.1066 - val_acc: 0.7910\n",
      "Epoch 15/20\n",
      "7982/7982 [==============================] - 2s 197us/step - loss: 0.1656 - acc: 0.9545 - val_loss: 1.1439 - val_acc: 0.7830\n",
      "Epoch 16/20\n",
      "7982/7982 [==============================] - 2s 193us/step - loss: 0.1545 - acc: 0.9560 - val_loss: 1.1030 - val_acc: 0.8060\n",
      "Epoch 17/20\n",
      "7982/7982 [==============================] - 2s 206us/step - loss: 0.1403 - acc: 0.9549 - val_loss: 1.1222 - val_acc: 0.7980\n",
      "Epoch 18/20\n",
      "7982/7982 [==============================] - 2s 202us/step - loss: 0.1404 - acc: 0.9567 - val_loss: 1.1938 - val_acc: 0.7830\n",
      "Epoch 19/20\n",
      "7982/7982 [==============================] - 2s 193us/step - loss: 0.1362 - acc: 0.9570 - val_loss: 1.1537 - val_acc: 0.7990\n",
      "Epoch 20/20\n",
      "7982/7982 [==============================] - ETA: 0s - loss: 0.1267 - acc: 0.956 - 2s 202us/step - loss: 0.1284 - acc: 0.9558 - val_loss: 1.2195 - val_acc: 0.7990\n"
     ]
    }
   ],
   "source": [
    "# 更多的隐藏单元\n",
    "model = models.Sequential()\n",
    "model.add(layers.Dense(64,activation='relu',input_shape=(10000,)))\n",
    "model.add(layers.Dense(64,activation='relu'))\n",
    "model.add(layers.Dense(32,activation='relu'))\n",
    "model.add(layers.Dense(46,activation='softmax'))\n",
    "model.compile(optimizer='rmsprop',\n",
    "             loss='categorical_crossentropy',\n",
    "             metrics=['accuracy'])\n",
    "history = model.fit(partial_x_train,partial_y_train,epochs=20,batch_size=512,validation_data=(x_val,y_val))"
   ]
  },
  {
   "cell_type": "markdown",
   "metadata": {},
   "source": [
    "更多的隐藏层并不能够提高模型精度，同样是训练到第9轮的时候出现了过拟合，后续可以把训练轮数控制在10轮以内，修改其他参数或使用其他算法"
   ]
  },
  {
   "cell_type": "markdown",
   "metadata": {},
   "source": [
    "### 小结\n",
    "下面是你应该从这个例子中学到的要点。\n",
    "\n",
    " 如果要对 N个类别的数据点进行分类，网络的最后一层应该是大小为N的Dense层。\n",
    "\n",
    " 对于单标签、多分类问题，网络的最后一层应该使用softmax 激活，这样可以输出在N个输出类别上的概率分布。\n",
    "\n",
    " 这种问题的损失函数几乎总是应该使用分类交叉熵。它将网络输出的概率分布与目标的真实分布之间的距离最小化。\n",
    "\n",
    " 处理多分类问题的标签有两种方法。\n",
    "\n",
    "     通过分类编码（也叫 one-hot 编码）对标签进行编码，然后使用 categorical_crossentropy 作为损失函数。\n",
    "     将标签编码为整数，然后使用 sparse_categorical_crossentropy损失函数。\n",
    " 如果你需要将数据划分到许多类别中，应该避免使用太小的中间层，以免在网络中造成信息瓶颈。"
   ]
  }
 ],
 "metadata": {
  "kernelspec": {
   "display_name": "Python 3",
   "language": "python",
   "name": "python3"
  },
  "language_info": {
   "codemirror_mode": {
    "name": "ipython",
    "version": 3
   },
   "file_extension": ".py",
   "mimetype": "text/x-python",
   "name": "python",
   "nbconvert_exporter": "python",
   "pygments_lexer": "ipython3",
   "version": "3.6.3"
  }
 },
 "nbformat": 4,
 "nbformat_minor": 2
}
